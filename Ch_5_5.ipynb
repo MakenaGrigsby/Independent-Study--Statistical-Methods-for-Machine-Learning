{
 "cells": [
  {
   "cell_type": "markdown",
   "id": "ae71f11b-dd81-4246-897f-7f7eb0f67cc6",
   "metadata": {},
   "source": [
    "5. In Chapter 4, we used logistic regression to predict the probability of default using income and balance on the Default data set. We will now estimate the test error of this logistic regression model using the validation set approach. Do not forget to set a random seed before beginning your analysis."
   ]
  },
  {
   "cell_type": "markdown",
   "id": "4557b96f-83ed-4039-bf92-dc963a25ae7c",
   "metadata": {},
   "source": [
    "(a) Fit a logistic regression model that uses income and balance to predict default."
   ]
  },
  {
   "cell_type": "code",
   "execution_count": 8,
   "id": "b0186b38-60d6-448a-aef8-7dbb6b396c6f",
   "metadata": {},
   "outputs": [],
   "source": [
    "import numpy as np\n",
    "import pandas as pd\n",
    "from sklearn.model_selection import train_test_split\n",
    "from sklearn.linear_model import LogisticRegression\n",
    "from sklearn.metrics import accuracy_score\n",
    "import statsmodels.api as sm"
   ]
  },
  {
   "cell_type": "code",
   "execution_count": 2,
   "id": "786cbf83-4131-4b47-897d-8abd738199f1",
   "metadata": {},
   "outputs": [
    {
     "data": {
      "text/html": [
       "<div>\n",
       "<style scoped>\n",
       "    .dataframe tbody tr th:only-of-type {\n",
       "        vertical-align: middle;\n",
       "    }\n",
       "\n",
       "    .dataframe tbody tr th {\n",
       "        vertical-align: top;\n",
       "    }\n",
       "\n",
       "    .dataframe thead th {\n",
       "        text-align: right;\n",
       "    }\n",
       "</style>\n",
       "<table border=\"1\" class=\"dataframe\">\n",
       "  <thead>\n",
       "    <tr style=\"text-align: right;\">\n",
       "      <th></th>\n",
       "      <th>default</th>\n",
       "      <th>student</th>\n",
       "      <th>balance</th>\n",
       "      <th>income</th>\n",
       "    </tr>\n",
       "  </thead>\n",
       "  <tbody>\n",
       "    <tr>\n",
       "      <th>0</th>\n",
       "      <td>No</td>\n",
       "      <td>No</td>\n",
       "      <td>729.526495</td>\n",
       "      <td>44361.625074</td>\n",
       "    </tr>\n",
       "    <tr>\n",
       "      <th>1</th>\n",
       "      <td>No</td>\n",
       "      <td>Yes</td>\n",
       "      <td>817.180407</td>\n",
       "      <td>12106.134700</td>\n",
       "    </tr>\n",
       "    <tr>\n",
       "      <th>2</th>\n",
       "      <td>No</td>\n",
       "      <td>No</td>\n",
       "      <td>1073.549164</td>\n",
       "      <td>31767.138947</td>\n",
       "    </tr>\n",
       "    <tr>\n",
       "      <th>3</th>\n",
       "      <td>No</td>\n",
       "      <td>No</td>\n",
       "      <td>529.250605</td>\n",
       "      <td>35704.493935</td>\n",
       "    </tr>\n",
       "    <tr>\n",
       "      <th>4</th>\n",
       "      <td>No</td>\n",
       "      <td>No</td>\n",
       "      <td>785.655883</td>\n",
       "      <td>38463.495879</td>\n",
       "    </tr>\n",
       "    <tr>\n",
       "      <th>...</th>\n",
       "      <td>...</td>\n",
       "      <td>...</td>\n",
       "      <td>...</td>\n",
       "      <td>...</td>\n",
       "    </tr>\n",
       "    <tr>\n",
       "      <th>9995</th>\n",
       "      <td>No</td>\n",
       "      <td>No</td>\n",
       "      <td>711.555020</td>\n",
       "      <td>52992.378914</td>\n",
       "    </tr>\n",
       "    <tr>\n",
       "      <th>9996</th>\n",
       "      <td>No</td>\n",
       "      <td>No</td>\n",
       "      <td>757.962918</td>\n",
       "      <td>19660.721768</td>\n",
       "    </tr>\n",
       "    <tr>\n",
       "      <th>9997</th>\n",
       "      <td>No</td>\n",
       "      <td>No</td>\n",
       "      <td>845.411989</td>\n",
       "      <td>58636.156984</td>\n",
       "    </tr>\n",
       "    <tr>\n",
       "      <th>9998</th>\n",
       "      <td>No</td>\n",
       "      <td>No</td>\n",
       "      <td>1569.009053</td>\n",
       "      <td>36669.112365</td>\n",
       "    </tr>\n",
       "    <tr>\n",
       "      <th>9999</th>\n",
       "      <td>No</td>\n",
       "      <td>Yes</td>\n",
       "      <td>200.922183</td>\n",
       "      <td>16862.952321</td>\n",
       "    </tr>\n",
       "  </tbody>\n",
       "</table>\n",
       "<p>10000 rows × 4 columns</p>\n",
       "</div>"
      ],
      "text/plain": [
       "     default student      balance        income\n",
       "0         No      No   729.526495  44361.625074\n",
       "1         No     Yes   817.180407  12106.134700\n",
       "2         No      No  1073.549164  31767.138947\n",
       "3         No      No   529.250605  35704.493935\n",
       "4         No      No   785.655883  38463.495879\n",
       "...      ...     ...          ...           ...\n",
       "9995      No      No   711.555020  52992.378914\n",
       "9996      No      No   757.962918  19660.721768\n",
       "9997      No      No   845.411989  58636.156984\n",
       "9998      No      No  1569.009053  36669.112365\n",
       "9999      No     Yes   200.922183  16862.952321\n",
       "\n",
       "[10000 rows x 4 columns]"
      ]
     },
     "execution_count": 2,
     "metadata": {},
     "output_type": "execute_result"
    }
   ],
   "source": [
    "Default = pd.read_csv('~/Independent Study /Default.csv')\n",
    "Default\n"
   ]
  },
  {
   "cell_type": "code",
   "execution_count": 3,
   "id": "44dd4eb8-e186-4208-9d88-2ecef1bbd6fd",
   "metadata": {},
   "outputs": [
    {
     "data": {
      "text/plain": [
       "Index(['default', 'student', 'balance', 'income'], dtype='object')"
      ]
     },
     "execution_count": 3,
     "metadata": {},
     "output_type": "execute_result"
    }
   ],
   "source": [
    "Default.columns"
   ]
  },
  {
   "cell_type": "code",
   "execution_count": 4,
   "id": "e7733e5f-526c-4824-8164-283d6d994437",
   "metadata": {},
   "outputs": [],
   "source": [
    "X = Default[['income', 'balance']]\n",
    "y = Default['default']"
   ]
  },
  {
   "cell_type": "code",
   "execution_count": 6,
   "id": "cbe0b22f-91ad-4d97-a29d-3c26cf5a87c0",
   "metadata": {},
   "outputs": [],
   "source": [
    "#set seed \n",
    "np.random.seed(42)"
   ]
  },
  {
   "cell_type": "code",
   "execution_count": 10,
   "id": "12031b7d-0291-494e-ae61-543d38744842",
   "metadata": {},
   "outputs": [
    {
     "name": "stdout",
     "output_type": "stream",
     "text": [
      "Coefficients: [[2.08091984e-05 5.64710797e-03]]\n",
      "Intercept: [-11.54047811]\n"
     ]
    }
   ],
   "source": [
    "# Split the data into training and validation sets\n",
    "#X_train, X_val, y_train, y_val = train_test_split(X, y, test_size=0.2, random_state=42)\n",
    "\n",
    "\n",
    "## Not sure if this is the correct answer  \n",
    "\n",
    "# Initialize logistic regression model\n",
    "logreg = LogisticRegression()\n",
    "\n",
    "# Fit the model\n",
    "logreg.fit(X, y)\n",
    "\n",
    "# Coefficients and intercept\n",
    "print(\"Coefficients:\", logreg.coef_)\n",
    "print(\"Intercept:\", logreg.intercept_)\n"
   ]
  },
  {
   "cell_type": "code",
   "execution_count": 31,
   "id": "e8a85d55-9033-41cc-9a3b-0e2cdc9b2bf1",
   "metadata": {},
   "outputs": [
    {
     "name": "stdout",
     "output_type": "stream",
     "text": [
      "Validation Accuracy: 0.9655\n"
     ]
    }
   ],
   "source": [
    "# Initialize the Logistic Regression model\n",
    "logreg = LogisticRegression()\n",
    "\n",
    "# Fit the model on the training data\n",
    "logreg.fit(X_train, y_train)\n",
    "\n",
    "# Predict on the validation set\n",
    "y_pred = logreg.predict(X_val)\n",
    "\n",
    "# Compute the accuracy of the model on the validation set\n",
    "accuracy = accuracy_score(y_val, y_pred)\n",
    "print('Validation Accuracy:', accuracy)"
   ]
  },
  {
   "cell_type": "markdown",
   "id": "f72524ea-c757-478c-b0bc-a0f0ddbffac0",
   "metadata": {},
   "source": [
    "(b) Using the validation set approach, estimate the test error of this model. In order to do this, you must perform the following steps:\n",
    "\n",
    "i. Split the sample set into a training set and a validation set."
   ]
  },
  {
   "cell_type": "code",
   "execution_count": 13,
   "id": "fb027c5e-a783-42f0-b624-35ccfc095a9f",
   "metadata": {},
   "outputs": [],
   "source": [
    "# Select the features 'income' and 'balance' and the target 'default'\n",
    "X = Default[['income', 'balance']]\n",
    "y = Default['default']\n",
    "\n",
    "# Set a random seed for reproducibility\n",
    "np.random.seed(42)\n",
    "\n",
    "# Split the data into training and validation sets\n",
    "X_train, X_val, y_train, y_val = train_test_split(X, y, test_size=0.2, random_state=42)\n"
   ]
  },
  {
   "cell_type": "markdown",
   "id": "79c0c890-38cf-46bb-809e-ad41fa93d924",
   "metadata": {},
   "source": [
    "ii. Fit a multiple logistic regression model using only the train-\n",
    "ing observations."
   ]
  },
  {
   "cell_type": "code",
   "execution_count": 14,
   "id": "b17b3a96-c42a-48d1-a1af-8cb1583a0835",
   "metadata": {},
   "outputs": [
    {
     "data": {
      "text/html": [
       "<style>#sk-container-id-1 {color: black;}#sk-container-id-1 pre{padding: 0;}#sk-container-id-1 div.sk-toggleable {background-color: white;}#sk-container-id-1 label.sk-toggleable__label {cursor: pointer;display: block;width: 100%;margin-bottom: 0;padding: 0.3em;box-sizing: border-box;text-align: center;}#sk-container-id-1 label.sk-toggleable__label-arrow:before {content: \"▸\";float: left;margin-right: 0.25em;color: #696969;}#sk-container-id-1 label.sk-toggleable__label-arrow:hover:before {color: black;}#sk-container-id-1 div.sk-estimator:hover label.sk-toggleable__label-arrow:before {color: black;}#sk-container-id-1 div.sk-toggleable__content {max-height: 0;max-width: 0;overflow: hidden;text-align: left;background-color: #f0f8ff;}#sk-container-id-1 div.sk-toggleable__content pre {margin: 0.2em;color: black;border-radius: 0.25em;background-color: #f0f8ff;}#sk-container-id-1 input.sk-toggleable__control:checked~div.sk-toggleable__content {max-height: 200px;max-width: 100%;overflow: auto;}#sk-container-id-1 input.sk-toggleable__control:checked~label.sk-toggleable__label-arrow:before {content: \"▾\";}#sk-container-id-1 div.sk-estimator input.sk-toggleable__control:checked~label.sk-toggleable__label {background-color: #d4ebff;}#sk-container-id-1 div.sk-label input.sk-toggleable__control:checked~label.sk-toggleable__label {background-color: #d4ebff;}#sk-container-id-1 input.sk-hidden--visually {border: 0;clip: rect(1px 1px 1px 1px);clip: rect(1px, 1px, 1px, 1px);height: 1px;margin: -1px;overflow: hidden;padding: 0;position: absolute;width: 1px;}#sk-container-id-1 div.sk-estimator {font-family: monospace;background-color: #f0f8ff;border: 1px dotted black;border-radius: 0.25em;box-sizing: border-box;margin-bottom: 0.5em;}#sk-container-id-1 div.sk-estimator:hover {background-color: #d4ebff;}#sk-container-id-1 div.sk-parallel-item::after {content: \"\";width: 100%;border-bottom: 1px solid gray;flex-grow: 1;}#sk-container-id-1 div.sk-label:hover label.sk-toggleable__label {background-color: #d4ebff;}#sk-container-id-1 div.sk-serial::before {content: \"\";position: absolute;border-left: 1px solid gray;box-sizing: border-box;top: 0;bottom: 0;left: 50%;z-index: 0;}#sk-container-id-1 div.sk-serial {display: flex;flex-direction: column;align-items: center;background-color: white;padding-right: 0.2em;padding-left: 0.2em;position: relative;}#sk-container-id-1 div.sk-item {position: relative;z-index: 1;}#sk-container-id-1 div.sk-parallel {display: flex;align-items: stretch;justify-content: center;background-color: white;position: relative;}#sk-container-id-1 div.sk-item::before, #sk-container-id-1 div.sk-parallel-item::before {content: \"\";position: absolute;border-left: 1px solid gray;box-sizing: border-box;top: 0;bottom: 0;left: 50%;z-index: -1;}#sk-container-id-1 div.sk-parallel-item {display: flex;flex-direction: column;z-index: 1;position: relative;background-color: white;}#sk-container-id-1 div.sk-parallel-item:first-child::after {align-self: flex-end;width: 50%;}#sk-container-id-1 div.sk-parallel-item:last-child::after {align-self: flex-start;width: 50%;}#sk-container-id-1 div.sk-parallel-item:only-child::after {width: 0;}#sk-container-id-1 div.sk-dashed-wrapped {border: 1px dashed gray;margin: 0 0.4em 0.5em 0.4em;box-sizing: border-box;padding-bottom: 0.4em;background-color: white;}#sk-container-id-1 div.sk-label label {font-family: monospace;font-weight: bold;display: inline-block;line-height: 1.2em;}#sk-container-id-1 div.sk-label-container {text-align: center;}#sk-container-id-1 div.sk-container {/* jupyter's `normalize.less` sets `[hidden] { display: none; }` but bootstrap.min.css set `[hidden] { display: none !important; }` so we also need the `!important` here to be able to override the default hidden behavior on the sphinx rendered scikit-learn.org. See: https://github.com/scikit-learn/scikit-learn/issues/21755 */display: inline-block !important;position: relative;}#sk-container-id-1 div.sk-text-repr-fallback {display: none;}</style><div id=\"sk-container-id-1\" class=\"sk-top-container\"><div class=\"sk-text-repr-fallback\"><pre>LogisticRegression()</pre><b>In a Jupyter environment, please rerun this cell to show the HTML representation or trust the notebook. <br />On GitHub, the HTML representation is unable to render, please try loading this page with nbviewer.org.</b></div><div class=\"sk-container\" hidden><div class=\"sk-item\"><div class=\"sk-estimator sk-toggleable\"><input class=\"sk-toggleable__control sk-hidden--visually\" id=\"sk-estimator-id-1\" type=\"checkbox\" checked><label for=\"sk-estimator-id-1\" class=\"sk-toggleable__label sk-toggleable__label-arrow\">LogisticRegression</label><div class=\"sk-toggleable__content\"><pre>LogisticRegression()</pre></div></div></div></div></div>"
      ],
      "text/plain": [
       "LogisticRegression()"
      ]
     },
     "execution_count": 14,
     "metadata": {},
     "output_type": "execute_result"
    }
   ],
   "source": [
    "# Initialize the Logistic Regression model\n",
    "model = LogisticRegression()\n",
    "\n",
    "# Fit the model on the training data\n",
    "model.fit(X_train, y_train)"
   ]
  },
  {
   "cell_type": "markdown",
   "id": "7af114c5-31f0-418e-8b1d-4079217f1d7a",
   "metadata": {},
   "source": [
    "iii. Obtain a prediction of default status for each individual in\n",
    "the validation set by computing the posterior probability of default for that individual, and classifying the individual to the default category if the posterior probability is greater than 0.5.\n"
   ]
  },
  {
   "cell_type": "code",
   "execution_count": 15,
   "id": "c7afb8c4-49ec-4dc7-a631-9098321fb0a0",
   "metadata": {},
   "outputs": [],
   "source": [
    "# Compute the posterior probabilities of default for the validation set\n",
    "posterior_probs = model.predict_proba(X_val)[:, 1]\n",
    "\n",
    "# Classify each individual to the default category if the posterior probability is greater than 0.5\n",
    "y_pred = (posterior_probs > 0.5).astype(int)\n",
    "\n",
    "y_pred = np.where(y_pred == 1, 'Yes', 'No')\n"
   ]
  },
  {
   "cell_type": "markdown",
   "id": "9696b60a-5c71-4222-b525-31576ae90302",
   "metadata": {},
   "source": [
    "iv. Compute the validation set error, which is the fraction of the observations in the validation set that are misclassified."
   ]
  },
  {
   "cell_type": "code",
   "execution_count": 16,
   "id": "715c1896-b0b3-4f7d-bc7a-f9fc2096717d",
   "metadata": {},
   "outputs": [
    {
     "name": "stdout",
     "output_type": "stream",
     "text": [
      "Validation Set Error: 0.034499999999999975\n"
     ]
    }
   ],
   "source": [
    "# Calculate the accuracy of the model on the validation set\n",
    "accuracy = accuracy_score(y_val, y_pred)\n",
    "\n",
    "# Compute the validation set error\n",
    "validation_error = 1 - accuracy\n",
    "\n",
    "print(\"Validation Set Error:\", validation_error)"
   ]
  },
  {
   "cell_type": "markdown",
   "id": "7ea2a9d5-e2b6-4765-b2bd-419e4f69baa9",
   "metadata": {},
   "source": [
    "(c) Repeat the process in (b) three times, using three different splits of the observations into a training set and a validation set. Com- ment on the results obtained.\n"
   ]
  },
  {
   "cell_type": "code",
   "execution_count": 17,
   "id": "55b4aa2b-e36f-4bda-a0f0-3d6f99026ed9",
   "metadata": {},
   "outputs": [
    {
     "name": "stdout",
     "output_type": "stream",
     "text": [
      "Validation Set Error with seed 1: 0.02949999999999997\n",
      "Validation Set Error with seed 42: 0.034499999999999975\n",
      "Validation Set Error with seed 100: 0.03249999999999997\n"
     ]
    }
   ],
   "source": [
    "# Initialize seeds for reproducibility\n",
    "seeds = [1, 42, 100]\n",
    "\n",
    "# Loop over seeds to perform different splits and calculate validation error\n",
    "for seed in seeds:\n",
    "    # Split the dataset into training and validation sets\n",
    "    X_train, X_val, y_train, y_val = train_test_split(X, y, test_size=0.2, random_state=seed)\n",
    "    \n",
    "    # Initialize the Logistic Regression model\n",
    "    model = LogisticRegression()\n",
    "    \n",
    "    # Fit the model on the training data\n",
    "    model.fit(X_train, y_train)\n",
    "    \n",
    "    # Compute the posterior probabilities of default for the validation set\n",
    "    posterior_probs = model.predict_proba(X_val)[:, 1]\n",
    "    \n",
    "    # Classify each individual to the default category if the posterior probability is greater than 0.5\n",
    "    y_pred = (posterior_probs > 0.5).astype(int)\n",
    "    \n",
    "    # If 'default' is represented as strings, convert predictions to the same format\n",
    "    if y.dtype == 'O':  # Check if the dtype (data type) of y is object (string)\n",
    "        y_pred = np.where(y_pred == 1, 'Yes', 'No')\n",
    "    \n",
    "    # Calculate the accuracy of the model on the validation set\n",
    "    accuracy = accuracy_score(y_val, y_pred)\n",
    "    \n",
    "    # Compute the validation set error\n",
    "    validation_error = 1 - accuracy\n",
    "    \n",
    "    print(f\"Validation Set Error with seed {seed}:\", validation_error)"
   ]
  },
  {
   "cell_type": "markdown",
   "id": "64816d8a-4b8b-4d94-b945-9d044fb64c90",
   "metadata": {},
   "source": [
    "(d) Now consider a logistic regression model that predicts the prob- ability of default using income, balance, and a dummy variable for student. Estimate the test error for this model using the val- idation set approach. Comment on whether or not including a dummy variable for student leads to a reduction in the test error rate."
   ]
  },
  {
   "cell_type": "code",
   "execution_count": 18,
   "id": "430009bf-6f12-447b-8dd0-16ed92db33ce",
   "metadata": {},
   "outputs": [
    {
     "name": "stdout",
     "output_type": "stream",
     "text": [
      "Validation Set Error (with 'student' variable): 0.035499999999999976\n"
     ]
    }
   ],
   "source": [
    "\n",
    "# Convert the 'student' feature to a dummy variable\n",
    "Default['student'] = pd.get_dummies(Default['student'], drop_first=True)\n",
    "\n",
    "# Define the feature variables including the 'student' dummy variable and the target variable\n",
    "X = Default[['income', 'balance', 'student']]\n",
    "y = Default['default']\n",
    "\n",
    "# Split the dataset into training and validation sets\n",
    "X_train, X_val, y_train, y_val = train_test_split(X, y, test_size=0.2, random_state=42)\n",
    "\n",
    "# Initialize the Logistic Regression model\n",
    "model = LogisticRegression()\n",
    "\n",
    "# Fit the model on the training data\n",
    "model.fit(X_train, y_train)\n",
    "\n",
    "# Compute the posterior probabilities of default for the validation set\n",
    "posterior_probs = model.predict_proba(X_val)[:, 1]\n",
    "\n",
    "# Classify each individual to the default category if the posterior probability is greater than 0.5\n",
    "y_pred = (posterior_probs > 0.5).astype(int)\n",
    "\n",
    "# If 'default' is represented as strings, convert predictions to the same format\n",
    "if y.dtype == 'O':\n",
    "    y_pred = np.where(y_pred == 1, 'Yes', 'No')\n",
    "\n",
    "# Calculate the accuracy of the model on the validation set\n",
    "accuracy = accuracy_score(y_val, y_pred)\n",
    "\n",
    "# Compute the validation set error\n",
    "validation_error_with_student = 1 - accuracy\n",
    "\n",
    "print(\"Validation Set Error (with 'student' variable):\", validation_error_with_student)\n"
   ]
  },
  {
   "cell_type": "code",
   "execution_count": null,
   "id": "8828a65c-44a7-41d2-a92d-03a1c8262f1d",
   "metadata": {},
   "outputs": [],
   "source": []
  }
 ],
 "metadata": {
  "kernelspec": {
   "display_name": "Python 3 (ipykernel)",
   "language": "python",
   "name": "python3"
  },
  "language_info": {
   "codemirror_mode": {
    "name": "ipython",
    "version": 3
   },
   "file_extension": ".py",
   "mimetype": "text/x-python",
   "name": "python",
   "nbconvert_exporter": "python",
   "pygments_lexer": "ipython3",
   "version": "3.11.3"
  }
 },
 "nbformat": 4,
 "nbformat_minor": 5
}
