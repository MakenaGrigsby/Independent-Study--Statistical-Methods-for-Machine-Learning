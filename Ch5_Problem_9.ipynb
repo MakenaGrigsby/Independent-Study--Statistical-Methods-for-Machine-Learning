{
 "cells": [
  {
   "cell_type": "code",
   "execution_count": 7,
   "id": "9bb1d620-7619-49d2-9cb0-aa01b9316a5d",
   "metadata": {},
   "outputs": [],
   "source": [
    "import numpy as np \n",
    "import pandas as pd"
   ]
  },
  {
   "cell_type": "code",
   "execution_count": 2,
   "id": "40ffd314-25af-4350-978e-da294442f3d1",
   "metadata": {},
   "outputs": [
    {
     "data": {
      "text/html": [
       "<div>\n",
       "<style scoped>\n",
       "    .dataframe tbody tr th:only-of-type {\n",
       "        vertical-align: middle;\n",
       "    }\n",
       "\n",
       "    .dataframe tbody tr th {\n",
       "        vertical-align: top;\n",
       "    }\n",
       "\n",
       "    .dataframe thead th {\n",
       "        text-align: right;\n",
       "    }\n",
       "</style>\n",
       "<table border=\"1\" class=\"dataframe\">\n",
       "  <thead>\n",
       "    <tr style=\"text-align: right;\">\n",
       "      <th></th>\n",
       "      <th>Unnamed: 0</th>\n",
       "      <th>crim</th>\n",
       "      <th>zn</th>\n",
       "      <th>indus</th>\n",
       "      <th>chas</th>\n",
       "      <th>nox</th>\n",
       "      <th>rm</th>\n",
       "      <th>age</th>\n",
       "      <th>dis</th>\n",
       "      <th>rad</th>\n",
       "      <th>tax</th>\n",
       "      <th>ptratio</th>\n",
       "      <th>lstat</th>\n",
       "      <th>medv</th>\n",
       "    </tr>\n",
       "  </thead>\n",
       "  <tbody>\n",
       "    <tr>\n",
       "      <th>0</th>\n",
       "      <td>1</td>\n",
       "      <td>0.00632</td>\n",
       "      <td>18.0</td>\n",
       "      <td>2.31</td>\n",
       "      <td>0</td>\n",
       "      <td>0.538</td>\n",
       "      <td>6.575</td>\n",
       "      <td>65.2</td>\n",
       "      <td>4.0900</td>\n",
       "      <td>1</td>\n",
       "      <td>296</td>\n",
       "      <td>15.3</td>\n",
       "      <td>4.98</td>\n",
       "      <td>24.0</td>\n",
       "    </tr>\n",
       "    <tr>\n",
       "      <th>1</th>\n",
       "      <td>2</td>\n",
       "      <td>0.02731</td>\n",
       "      <td>0.0</td>\n",
       "      <td>7.07</td>\n",
       "      <td>0</td>\n",
       "      <td>0.469</td>\n",
       "      <td>6.421</td>\n",
       "      <td>78.9</td>\n",
       "      <td>4.9671</td>\n",
       "      <td>2</td>\n",
       "      <td>242</td>\n",
       "      <td>17.8</td>\n",
       "      <td>9.14</td>\n",
       "      <td>21.6</td>\n",
       "    </tr>\n",
       "    <tr>\n",
       "      <th>2</th>\n",
       "      <td>3</td>\n",
       "      <td>0.02729</td>\n",
       "      <td>0.0</td>\n",
       "      <td>7.07</td>\n",
       "      <td>0</td>\n",
       "      <td>0.469</td>\n",
       "      <td>7.185</td>\n",
       "      <td>61.1</td>\n",
       "      <td>4.9671</td>\n",
       "      <td>2</td>\n",
       "      <td>242</td>\n",
       "      <td>17.8</td>\n",
       "      <td>4.03</td>\n",
       "      <td>34.7</td>\n",
       "    </tr>\n",
       "    <tr>\n",
       "      <th>3</th>\n",
       "      <td>4</td>\n",
       "      <td>0.03237</td>\n",
       "      <td>0.0</td>\n",
       "      <td>2.18</td>\n",
       "      <td>0</td>\n",
       "      <td>0.458</td>\n",
       "      <td>6.998</td>\n",
       "      <td>45.8</td>\n",
       "      <td>6.0622</td>\n",
       "      <td>3</td>\n",
       "      <td>222</td>\n",
       "      <td>18.7</td>\n",
       "      <td>2.94</td>\n",
       "      <td>33.4</td>\n",
       "    </tr>\n",
       "    <tr>\n",
       "      <th>4</th>\n",
       "      <td>5</td>\n",
       "      <td>0.06905</td>\n",
       "      <td>0.0</td>\n",
       "      <td>2.18</td>\n",
       "      <td>0</td>\n",
       "      <td>0.458</td>\n",
       "      <td>7.147</td>\n",
       "      <td>54.2</td>\n",
       "      <td>6.0622</td>\n",
       "      <td>3</td>\n",
       "      <td>222</td>\n",
       "      <td>18.7</td>\n",
       "      <td>5.33</td>\n",
       "      <td>36.2</td>\n",
       "    </tr>\n",
       "    <tr>\n",
       "      <th>...</th>\n",
       "      <td>...</td>\n",
       "      <td>...</td>\n",
       "      <td>...</td>\n",
       "      <td>...</td>\n",
       "      <td>...</td>\n",
       "      <td>...</td>\n",
       "      <td>...</td>\n",
       "      <td>...</td>\n",
       "      <td>...</td>\n",
       "      <td>...</td>\n",
       "      <td>...</td>\n",
       "      <td>...</td>\n",
       "      <td>...</td>\n",
       "      <td>...</td>\n",
       "    </tr>\n",
       "    <tr>\n",
       "      <th>501</th>\n",
       "      <td>502</td>\n",
       "      <td>0.06263</td>\n",
       "      <td>0.0</td>\n",
       "      <td>11.93</td>\n",
       "      <td>0</td>\n",
       "      <td>0.573</td>\n",
       "      <td>6.593</td>\n",
       "      <td>69.1</td>\n",
       "      <td>2.4786</td>\n",
       "      <td>1</td>\n",
       "      <td>273</td>\n",
       "      <td>21.0</td>\n",
       "      <td>9.67</td>\n",
       "      <td>22.4</td>\n",
       "    </tr>\n",
       "    <tr>\n",
       "      <th>502</th>\n",
       "      <td>503</td>\n",
       "      <td>0.04527</td>\n",
       "      <td>0.0</td>\n",
       "      <td>11.93</td>\n",
       "      <td>0</td>\n",
       "      <td>0.573</td>\n",
       "      <td>6.120</td>\n",
       "      <td>76.7</td>\n",
       "      <td>2.2875</td>\n",
       "      <td>1</td>\n",
       "      <td>273</td>\n",
       "      <td>21.0</td>\n",
       "      <td>9.08</td>\n",
       "      <td>20.6</td>\n",
       "    </tr>\n",
       "    <tr>\n",
       "      <th>503</th>\n",
       "      <td>504</td>\n",
       "      <td>0.06076</td>\n",
       "      <td>0.0</td>\n",
       "      <td>11.93</td>\n",
       "      <td>0</td>\n",
       "      <td>0.573</td>\n",
       "      <td>6.976</td>\n",
       "      <td>91.0</td>\n",
       "      <td>2.1675</td>\n",
       "      <td>1</td>\n",
       "      <td>273</td>\n",
       "      <td>21.0</td>\n",
       "      <td>5.64</td>\n",
       "      <td>23.9</td>\n",
       "    </tr>\n",
       "    <tr>\n",
       "      <th>504</th>\n",
       "      <td>505</td>\n",
       "      <td>0.10959</td>\n",
       "      <td>0.0</td>\n",
       "      <td>11.93</td>\n",
       "      <td>0</td>\n",
       "      <td>0.573</td>\n",
       "      <td>6.794</td>\n",
       "      <td>89.3</td>\n",
       "      <td>2.3889</td>\n",
       "      <td>1</td>\n",
       "      <td>273</td>\n",
       "      <td>21.0</td>\n",
       "      <td>6.48</td>\n",
       "      <td>22.0</td>\n",
       "    </tr>\n",
       "    <tr>\n",
       "      <th>505</th>\n",
       "      <td>506</td>\n",
       "      <td>0.04741</td>\n",
       "      <td>0.0</td>\n",
       "      <td>11.93</td>\n",
       "      <td>0</td>\n",
       "      <td>0.573</td>\n",
       "      <td>6.030</td>\n",
       "      <td>80.8</td>\n",
       "      <td>2.5050</td>\n",
       "      <td>1</td>\n",
       "      <td>273</td>\n",
       "      <td>21.0</td>\n",
       "      <td>7.88</td>\n",
       "      <td>11.9</td>\n",
       "    </tr>\n",
       "  </tbody>\n",
       "</table>\n",
       "<p>506 rows × 14 columns</p>\n",
       "</div>"
      ],
      "text/plain": [
       "     Unnamed: 0     crim    zn  indus  chas    nox     rm   age     dis  rad  \\\n",
       "0             1  0.00632  18.0   2.31     0  0.538  6.575  65.2  4.0900    1   \n",
       "1             2  0.02731   0.0   7.07     0  0.469  6.421  78.9  4.9671    2   \n",
       "2             3  0.02729   0.0   7.07     0  0.469  7.185  61.1  4.9671    2   \n",
       "3             4  0.03237   0.0   2.18     0  0.458  6.998  45.8  6.0622    3   \n",
       "4             5  0.06905   0.0   2.18     0  0.458  7.147  54.2  6.0622    3   \n",
       "..          ...      ...   ...    ...   ...    ...    ...   ...     ...  ...   \n",
       "501         502  0.06263   0.0  11.93     0  0.573  6.593  69.1  2.4786    1   \n",
       "502         503  0.04527   0.0  11.93     0  0.573  6.120  76.7  2.2875    1   \n",
       "503         504  0.06076   0.0  11.93     0  0.573  6.976  91.0  2.1675    1   \n",
       "504         505  0.10959   0.0  11.93     0  0.573  6.794  89.3  2.3889    1   \n",
       "505         506  0.04741   0.0  11.93     0  0.573  6.030  80.8  2.5050    1   \n",
       "\n",
       "     tax  ptratio  lstat  medv  \n",
       "0    296     15.3   4.98  24.0  \n",
       "1    242     17.8   9.14  21.6  \n",
       "2    242     17.8   4.03  34.7  \n",
       "3    222     18.7   2.94  33.4  \n",
       "4    222     18.7   5.33  36.2  \n",
       "..   ...      ...    ...   ...  \n",
       "501  273     21.0   9.67  22.4  \n",
       "502  273     21.0   9.08  20.6  \n",
       "503  273     21.0   5.64  23.9  \n",
       "504  273     21.0   6.48  22.0  \n",
       "505  273     21.0   7.88  11.9  \n",
       "\n",
       "[506 rows x 14 columns]"
      ]
     },
     "execution_count": 2,
     "metadata": {},
     "output_type": "execute_result"
    }
   ],
   "source": [
    "Boston = pd.read_csv('~/Independent Study /Boston.csv')\n",
    "Boston "
   ]
  },
  {
   "cell_type": "code",
   "execution_count": 3,
   "id": "23c64029-29f8-4c9c-9692-49c618b552bb",
   "metadata": {},
   "outputs": [
    {
     "data": {
      "text/plain": [
       "Index(['Unnamed: 0', 'crim', 'zn', 'indus', 'chas', 'nox', 'rm', 'age', 'dis',\n",
       "       'rad', 'tax', 'ptratio', 'lstat', 'medv'],\n",
       "      dtype='object')"
      ]
     },
     "execution_count": 3,
     "metadata": {},
     "output_type": "execute_result"
    }
   ],
   "source": [
    "Boston.columns\n"
   ]
  },
  {
   "cell_type": "markdown",
   "id": "646c1012-5723-4319-b3e9-8d81712fbe4a",
   "metadata": {},
   "source": [
    "(a) Based on this data set, provide an estimate for the population mean of medv. Call this estimate μˆ."
   ]
  },
  {
   "cell_type": "code",
   "execution_count": 11,
   "id": "9cb5e1a8-ae43-4a11-8f13-a1ba75f42450",
   "metadata": {},
   "outputs": [
    {
     "name": "stdout",
     "output_type": "stream",
     "text": [
      "The estimate for the population mean of medv (μˆ) is: 22.53\n"
     ]
    }
   ],
   "source": [
    "mu_hat = Boston['medv'].mean()\n",
    "print(f\"The estimate for the population mean of medv (μˆ) is: {mu_hat:.2f}\")"
   ]
  },
  {
   "cell_type": "markdown",
   "id": "d182d39f-927e-45bd-9008-11c02f59d55b",
   "metadata": {},
   "source": [
    "(b) Provide an estimate of the standard error of μˆ. Interpret this result.\n",
    "Hint: We can compute the standard error of the sample mean by dividing the sample standard deviation by the square root of the number of observations."
   ]
  },
  {
   "cell_type": "code",
   "execution_count": 12,
   "id": "6d0f5d31-471d-4c4e-a3a0-79eb58f4569f",
   "metadata": {},
   "outputs": [
    {
     "name": "stdout",
     "output_type": "stream",
     "text": [
      "The standard error of μˆ is: 0.41\n"
     ]
    }
   ],
   "source": [
    "# SE of the sample mean\n",
    "n = len(Boston)\n",
    "s = Boston['medv'].std()\n",
    "SE_mu_hat = s / np.sqrt(n)\n",
    "\n",
    "print(f\"The standard error of μˆ is: {SE_mu_hat:.2f}\")\n"
   ]
  },
  {
   "cell_type": "markdown",
   "id": "fa1d6952-0062-4d45-b0d9-92cfcfcb9ce5",
   "metadata": {},
   "source": [
    "(c) Now estimate the standard error of μˆ using the bootstrap. How does this compare to your answer from (b)?"
   ]
  },
  {
   "cell_type": "code",
   "execution_count": 16,
   "id": "2fe97638-750c-4800-98aa-7074f3ea524e",
   "metadata": {},
   "outputs": [
    {
     "name": "stdout",
     "output_type": "stream",
     "text": [
      "The bootstrap estimate of the standard error of μˆ is: 0.41\n"
     ]
    }
   ],
   "source": [
    "def bootstrap_sample(data, num_samples):\n",
    "    return np.random.choice(data, size=num_samples, replace=True)\n",
    "\n",
    "# Number of bootstrap replications\n",
    "num_replications = 10000\n",
    "\n",
    "# Sample size\n",
    "n = len(Boston['medv'])\n",
    "\n",
    "# Generate bootstrap sample means\n",
    "bootstrap_means = [bootstrap_sample(Boston['medv'], n).mean() for _ in range(num_replications)]\n",
    "\n",
    "# Compute standard error from bootstrap samples\n",
    "bootstrap_SE = np.std(bootstrap_means)\n",
    "\n",
    "print(f\"The bootstrap estimate of the standard error of μˆ is: {bootstrap_SE:.2f}\")\n",
    "\n"
   ]
  },
  {
   "cell_type": "markdown",
   "id": "2a3c6cdb-115d-428d-82a6-0718b41a79f3",
   "metadata": {},
   "source": [
    "* Since the SE for mu_hat and the bootstrap SE for mu_hat are both approximately 0.41, we can make the assumption that this data is independent and identically distributed. "
   ]
  },
  {
   "cell_type": "markdown",
   "id": "cb1cda71-974d-44a4-91c0-0b7e543e2855",
   "metadata": {},
   "source": [
    "(d) Based on your bootstrap estimate from (c), provide a 95 % con- fidence interval for the mean of medv. Compare it to the results obtained by using Boston['medv'].std() and the two standard error rule (3.9).\n",
    "Hint: You can approximate a 95 % confidence interval using the formula [μˆ − 2SE(μˆ), μˆ + 2SE(μˆ)]."
   ]
  },
  {
   "cell_type": "code",
   "execution_count": 18,
   "id": "dd4128ca-1bf4-4a2c-ba12-10c4e9d25f58",
   "metadata": {},
   "outputs": [
    {
     "name": "stdout",
     "output_type": "stream",
     "text": [
      "95% Confidence Interval using Bootstrap: (21.710, 23.356)\n",
      "95% Confidence Interval using Two Standard Error Rule: (21.715, 23.351)\n"
     ]
    }
   ],
   "source": [
    "# Compute the sample mean of medv\n",
    "mu_hat = Boston['medv'].mean()\n",
    "\n",
    "# 95% Confidence Interval using Bootstrap SE\n",
    "bootstrap_CI = (mu_hat - 2 * bootstrap_SE, mu_hat + 2 * bootstrap_SE)\n",
    "\n",
    "# 95% Confidence Interval using two standard error rule\n",
    "standard_SE = Boston['medv'].std() / np.sqrt(n)\n",
    "standard_CI = (mu_hat - 2 * standard_SE, mu_hat + 2 * standard_SE)\n",
    "\n",
    "print(f\"95% Confidence Interval using Bootstrap: ({bootstrap_CI[0]:.3f}, {bootstrap_CI[1]:.3f})\")\n",
    "print(f\"95% Confidence Interval using Two Standard Error Rule: ({standard_CI[0]:.3f}, {standard_CI[1]:.3f})\")\n",
    "\n"
   ]
  },
  {
   "cell_type": "markdown",
   "id": "6decf80c-4693-4c12-94d5-fab4ec284304",
   "metadata": {},
   "source": [
    "(e) Based on this data set, provide an estimate, μˆmed, for the median value of medv in the population."
   ]
  },
  {
   "cell_type": "code",
   "execution_count": 19,
   "id": "16622b1b-2548-405b-a89c-90a9c4f3adf1",
   "metadata": {},
   "outputs": [
    {
     "name": "stdout",
     "output_type": "stream",
     "text": [
      "The estimate for the population median of medv (μˆ_med) is: 21.200\n"
     ]
    }
   ],
   "source": [
    "#sample median of medv\n",
    "mu_med_hat = Boston['medv'].median()\n",
    "\n",
    "print(f\"The estimate for the population median of medv (μˆ_med) is: {mu_med_hat:.3f}\")\n"
   ]
  },
  {
   "cell_type": "markdown",
   "id": "25fbd1f9-dc5e-40c9-b0b1-4c7b4f9e7f0d",
   "metadata": {},
   "source": [
    "(f) We now would like to estimate the standard error of μˆmed. Unfortunately, there is no simple formula for computing the standard error of the median. Instead, estimate the standard error of the median using the bootstrap. Comment on your findings."
   ]
  },
  {
   "cell_type": "code",
   "execution_count": 21,
   "id": "4b38b438-60b9-440b-84f5-0b4fc66ce936",
   "metadata": {},
   "outputs": [
    {
     "name": "stdout",
     "output_type": "stream",
     "text": [
      "The bootstrap estimate of the standard error of μˆ_med is: 0.375\n"
     ]
    }
   ],
   "source": [
    "# Generate bootstrap sample medians\n",
    "bootstrap_medians = [np.median(bootstrap_sample(Boston['medv'], n)) for _ in range(num_replications)]\n",
    "\n",
    "# Compute standard error from bootstrap samples for median\n",
    "bootstrap_SE_median = np.std(bootstrap_medians)\n",
    "\n",
    "print(f\"The bootstrap estimate of the standard error of μˆ_med is: {bootstrap_SE_median:.3f}\")\n"
   ]
  },
  {
   "cell_type": "markdown",
   "id": "5f7b66a8-d7aa-4b9c-9ce0-4c2b62766e46",
   "metadata": {},
   "source": [
    "* Since bootstrap_SE_0_1 relatively small, this indicates that our estimate is somewhat stable "
   ]
  },
  {
   "cell_type": "markdown",
   "id": "7a25054d-e48f-4706-8d29-27855596df3c",
   "metadata": {},
   "source": [
    "(g) Based on this data set, provide an estimate for the tenth per- centile of medv in Boston census tracts. Call this quantity μˆ0.1. (You can use the np.percentile() function.)"
   ]
  },
  {
   "cell_type": "code",
   "execution_count": 22,
   "id": "e369cd29-d482-4e8f-8545-e2729bd73768",
   "metadata": {},
   "outputs": [
    {
     "name": "stdout",
     "output_type": "stream",
     "text": [
      "The estimate for the tenth percentile of medv (μˆ0.1) is: 12.750\n"
     ]
    }
   ],
   "source": [
    "# Compute the tenth percentile of medv\n",
    "mu_0_1_hat = np.percentile(Boston['medv'], 10)\n",
    "\n",
    "print(f\"The estimate for the tenth percentile of medv (μˆ0.1) is: {mu_0_1_hat:.3f}\")\n"
   ]
  },
  {
   "cell_type": "markdown",
   "id": "a07c07e8-fcfc-406b-85c3-5f63ab1e09ad",
   "metadata": {},
   "source": [
    "(h) Use the bootstrap to estimate the standard error of μˆ0.1. Comment on your findings."
   ]
  },
  {
   "cell_type": "code",
   "execution_count": 23,
   "id": "0164af0e-b620-4898-9e8f-af8f0169bf46",
   "metadata": {},
   "outputs": [
    {
     "name": "stdout",
     "output_type": "stream",
     "text": [
      "The bootstrap estimate of the standard error of μˆ0.1 is: 0.495\n"
     ]
    }
   ],
   "source": [
    "# Generate bootstrap sample tenth percentiles\n",
    "bootstrap_tenth_percentiles = [np.percentile(bootstrap_sample(Boston['medv'], n), 10) for _ in range(num_replications)]\n",
    "\n",
    "# Compute standard error from bootstrap samples for the tenth percentile\n",
    "bootstrap_SE_0_1 = np.std(bootstrap_tenth_percentiles)\n",
    "\n",
    "print(f\"The bootstrap estimate of the standard error of μˆ0.1 is: {bootstrap_SE_0_1:.3f}\")\n"
   ]
  },
  {
   "cell_type": "markdown",
   "id": "f59d8db0-7a18-4112-a2f6-f08cf69a7007",
   "metadata": {},
   "source": [
    "* Since bootstrap_SE_0_1 relatively small, this indicates that our estimate is somewhat stable"
   ]
  },
  {
   "cell_type": "code",
   "execution_count": null,
   "id": "953ae9cd-d624-4c57-b5ef-0f901b7bf489",
   "metadata": {},
   "outputs": [],
   "source": []
  }
 ],
 "metadata": {
  "kernelspec": {
   "display_name": "Python 3 (ipykernel)",
   "language": "python",
   "name": "python3"
  },
  "language_info": {
   "codemirror_mode": {
    "name": "ipython",
    "version": 3
   },
   "file_extension": ".py",
   "mimetype": "text/x-python",
   "name": "python",
   "nbconvert_exporter": "python",
   "pygments_lexer": "ipython3",
   "version": "3.11.3"
  }
 },
 "nbformat": 4,
 "nbformat_minor": 5
}
